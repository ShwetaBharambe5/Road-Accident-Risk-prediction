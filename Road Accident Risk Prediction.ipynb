{
 "cells": [
  {
   "cell_type": "code",
   "execution_count": 3,
   "metadata": {},
   "outputs": [
    {
     "name": "stdout",
     "output_type": "stream",
     "text": [
      "   Road ID  Length  Numberof_Bends  Trafficvolume  AccidentRisk\n",
      "0        1   20703               8             60            30\n",
      "1        2   55603              30             80            50\n",
      "2        3   40000              20             30            15\n",
      "3        4   20000              10             12            22\n",
      "4        5   60000              35             38            56\n",
      "\n",
      "          Road ID        Length  Numberof_Bends  Trafficvolume  AccidentRisk\n",
      "count  24.000000     24.000000       24.000000      24.000000     24.000000\n",
      "mean   13.208333  54225.250000       42.125000      46.208333     55.083333\n",
      "std     7.442412  25855.007182       25.348549      20.849313     24.913619\n",
      "min     1.000000  10000.000000        8.000000      12.000000     15.000000\n",
      "25%     6.750000  33750.000000       20.000000      29.750000     35.000000\n",
      "50%    13.500000  55301.500000       39.000000      47.500000     55.000000\n",
      "75%    19.250000  75975.000000       65.250000      60.000000     80.000000\n",
      "max    25.000000  96700.000000       90.000000      85.000000     92.000000\n",
      "\n",
      "Labels list from label encoder :- [15, 20, 22, 30, 35, 40, 45, 46, 50, 55, 56, 60, 65, 70, 80, 85, 86, 90, 92]\n",
      "Size Of The Train Dataset :- 21\n",
      "Size Of The Test Dataset :- 3\n",
      "\n",
      "Features:\n",
      " ((3, 0, 13), (12, 7, 16), (7, 4, 6), (2, 1, 0), (13, 8, 8), (5, 6, 2), (10, 10, 13), (16, 14, 12), (22, 12, 16), (15, 13, 10), (11, 11, 6), (17, 15, 11), (20, 17, 4), (4, 3, 1), (8, 4, 3), (6, 5, 6), (18, 17, 9), (23, 19, 13), (19, 18, 15), (21, 20, 14), (14, 16, 17), (9, 9, 10), (0, 1, 7), (1, 2, 5))\n",
      "\n",
      "Predicted classes using SVM - gaussian kernal for test case ((3, 0, 13), (12, 7, 16)) : [4 9] respectively\n",
      "note: 0-notrisk,1-risk\n"
     ]
    }
   ],
   "source": [
    "\n",
    "import pandas as pd \n",
    "from sklearn import preprocessing,svm \n",
    "import numpy as nm \n",
    "from matplotlib import pyplot as plt \n",
    "from sklearn.preprocessing import StandardScaler \n",
    "from sklearn.pipeline import Pipeline \n",
    "from sklearn.model_selection import train_test_split \n",
    "from sklearn.preprocessing import LabelEncoder \n",
    "\n",
    "df=pd.read_excel(r\"E:\\ML Lab\\RoadTransportRecords.xlsx\") \n",
    "\n",
    "print(df.head(5)) \n",
    "\n",
    "print(\"\\n\",df.describe()) \n",
    "\n",
    "X = df.drop(['AccidentRisk'], axis=1) \n",
    "y = df['AccidentRisk']\n",
    "\n",
    "pipe_line = Pipeline([('std_scaler', StandardScaler())]) \n",
    "X = pipe_line.fit_transform(X)\n",
    "label_encode = LabelEncoder() \n",
    "y = label_encode.fit_transform(y) \n",
    "print(f\"\\nLabels list from label encoder :- {list(label_encode.classes_)}\") \n",
    "X_train, X_test, y_train, y_test = train_test_split(X, y, test_size=0.1, random_state=25) \n",
    "print(f\"Size Of The Train Dataset :- {len(X_train)}\") \n",
    "print(f\"Size Of The Test Dataset :- {len(X_test)}\") \n",
    "\n",
    "le = preprocessing.LabelEncoder() \n",
    "Length_encoded = le.fit_transform(df.Length) \n",
    "Numberof_Bends_encoded  = le.fit_transform(df.Numberof_Bends) \n",
    "Trafficvolume_encoded  = le.fit_transform(df.Trafficvolume) \n",
    "AccidentRisk_encoded = le.fit_transform(df.AccidentRisk) \n",
    "x=tuple(zip(Length_encoded,Numberof_Bends_encoded, Trafficvolume_encoded)) \n",
    "print(\"\\nFeatures:\\n\",x) \n",
    "\n",
    "model=svm.SVC(kernel='rbf',gamma='scale') \n",
    "model.fit(x,AccidentRisk_encoded) \n",
    "xtest=((3, 0, 13),(12, 7, 16)) \n",
    "ypred=model.predict(xtest) \n",
    "\n",
    "print(\"\\nPredicted classes using SVM - gaussian kernal for test case\",xtest,\":\",ypred,\"respectively\") \n",
    "print(\"note: 0-notrisk,1-risk\")\n"
   ]
  }
 ],
 "metadata": {
  "kernelspec": {
   "display_name": "Python 3",
   "language": "python",
   "name": "python3"
  },
  "language_info": {
   "codemirror_mode": {
    "name": "ipython",
    "version": 3
   },
   "file_extension": ".py",
   "mimetype": "text/x-python",
   "name": "python",
   "nbconvert_exporter": "python",
   "pygments_lexer": "ipython3",
   "version": "3.8.10"
  }
 },
 "nbformat": 4,
 "nbformat_minor": 4
}
